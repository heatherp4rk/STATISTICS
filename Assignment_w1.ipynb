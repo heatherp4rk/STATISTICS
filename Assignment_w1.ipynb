{
  "nbformat": 4,
  "nbformat_minor": 0,
  "metadata": {
    "colab": {
      "provenance": [],
      "authorship_tag": "ABX9TyM2fxGuNs61ESEFcs4HmuEC",
      "include_colab_link": true
    },
    "kernelspec": {
      "name": "python3",
      "display_name": "Python 3"
    },
    "language_info": {
      "name": "python"
    }
  },
  "cells": [
    {
      "cell_type": "markdown",
      "metadata": {
        "id": "view-in-github",
        "colab_type": "text"
      },
      "source": [
        "<a href=\"https://colab.research.google.com/github/heatherp4rk/STATISTICS/blob/main/Assignment_w1.ipynb\" target=\"_parent\"><img src=\"https://colab.research.google.com/assets/colab-badge.svg\" alt=\"Open In Colab\"/></a>"
      ]
    },
    {
      "cell_type": "code",
      "execution_count": null,
      "metadata": {
        "id": "v4Kz8VSU9BfM"
      },
      "outputs": [],
      "source": []
    },
    {
      "cell_type": "markdown",
      "source": [
        "# 이론적인 확률분포\n",
        "### 01. 확률분포와 파라미터\n",
        "**확률분포**\n",
        "- 수식으로 표현\n",
        "- 파라미터를 가짐 ➡️ 파라미터를 알면 확률분포의 형태를 알 수 있다  \n",
        "\n",
        "**파라미터**\n",
        "- parameter, 모수\n",
        "\n",
        "```\n",
        "데이터 분석의 목적: 모집단의 성질을 아는 것️\n",
        "\n",
        "➡️ 모집단을 'ㅇㅇ이라는 파라미터를 가진 ~~이라는 확률분포'로 나타내기\n",
        "```\n",
        "### 02. 정규분포\n",
        "**정규분포 (normal distribution)**\n",
        "- 가우스 분포\n",
        "- <u> 표준정규분포 </u>\n",
        "\n",
        "  *   평균 μ=0, 표준편차 σ=1인 정규분포 N(0,1)\n",
        "\n",
        "```\n",
        "정규분포의 특징\n",
        "- 평균 μ를 중심으로 한 종형, 좌우대칭 분포\n",
        "- 평균 μ 근처에 값이 가장 많고, 평균에서 멀어질수록 적어짐\n",
        "- μ는 분포의 위치를 결정하고, σ는 분포의 너비를 결정함\n",
        "\n",
        "정규분포의 성질\n",
        "- μ-σ부터 μ+σ까지의 범위에 값이 있을 확률은 약 68%\n",
        "- μ-2σ부터 μ+2σ까지의 범위에 값이 있을 확률은 약 95%\n",
        "- μ-3σ부터 μ+3σ까지의 범위에 값이 있을 확률은 약 99.7%\n",
        "```\n",
        "\n",
        "### 03. 표준화\n",
        "**표준화 (standardizing, normalizing)**\n",
        "- 확률변수 x 또는 데이터의 평균 μ(x̄)와 표준편차 σ(s)를 이용하여 평균 0, 표준편차 1로 변환할 수 있음\n",
        "- z = (x - μ) / σ\n",
        "- 분포 내의 위치를 알 수 있음 (μ, σ에 상관없이)\n",
        "\n",
        "```\n",
        "[예시]\n",
        "1. 성인 남성의 키 분포\n",
        "- μ=167.6, σ=7.0인 정규분포\n",
        "- 180cm ➡️ z=(180-167.6)/7=1.75\n",
        "2. 성인 여성의 키 분포\n",
        "- μ=154.1, σ=6.9인 정규분포\n",
        "- 170cm ➡️ z=(170-154.1)/6.9=2.3\n",
        "✅ 평균과의 거리가 더 멀기 때문에, 180cm인 남성보다 170cm인 여성이 더 드물다\n",
        "```\n",
        "\n"
      ],
      "metadata": {
        "id": "rBTV6OAr9FvL"
      }
    },
    {
      "cell_type": "code",
      "source": [],
      "metadata": {
        "id": "lrpBDh27-WA9"
      },
      "execution_count": null,
      "outputs": []
    },
    {
      "cell_type": "markdown",
      "source": [],
      "metadata": {
        "id": "-iS1uXvf9DP5"
      }
    }
  ]
}